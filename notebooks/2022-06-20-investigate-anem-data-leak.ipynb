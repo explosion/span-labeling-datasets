{
 "cells": [
  {
   "cell_type": "markdown",
   "id": "fab5c2ca",
   "metadata": {},
   "source": [
    "# Investigating AnEM data leak"
   ]
  },
  {
   "cell_type": "code",
   "execution_count": 1,
   "id": "ffd7badd",
   "metadata": {},
   "outputs": [],
   "source": [
    "import spacy\n",
    "from spacy.tokens import DocBin"
   ]
  },
  {
   "cell_type": "code",
   "execution_count": 5,
   "id": "9bf357e3",
   "metadata": {},
   "outputs": [
    {
     "name": "stdout",
     "output_type": "stream",
     "text": [
      "\u001b[1m\r\n",
      "============================== Info about spaCy ==============================\u001b[0m\r\n",
      "\r\n",
      "spaCy version    3.3.1                         \r\n",
      "Location         /home/lj/Explosion/spancat-datasets/venv/lib/python3.8/site-packages/spacy\r\n",
      "Platform         Linux-5.10.16.3-microsoft-standard-WSL2-x86_64-with-glibc2.29\r\n",
      "Python version   3.8.10                        \r\n",
      "Pipelines        es_core_news_lg (3.3.0), nl_core_news_lg (3.3.0), en_core_web_lg (3.3.0), de_core_news_lg (3.3.0)\r\n",
      "\r\n"
     ]
    }
   ],
   "source": [
    "!spacy info"
   ]
  },
  {
   "cell_type": "code",
   "execution_count": 3,
   "id": "03592963",
   "metadata": {},
   "outputs": [],
   "source": [
    "nlp = spacy.blank(\"en\")"
   ]
  },
  {
   "cell_type": "code",
   "execution_count": 4,
   "id": "9f9aabbd",
   "metadata": {},
   "outputs": [
    {
     "name": "stdout",
     "output_type": "stream",
     "text": [
      "Train docs 2252, dev docs 563\n"
     ]
    }
   ],
   "source": [
    "train_docs = list(DocBin().from_disk(\"../corpus/spancat/anem-train.spacy\").get_docs(nlp.vocab))\n",
    "dev_docs = list(DocBin().from_disk(\"../corpus/spancat/anem-train-dev.spacy\").get_docs(nlp.vocab))\n",
    "print(f\"Train docs {len(train_docs)}, dev docs {len(dev_docs)}\")"
   ]
  },
  {
   "cell_type": "code",
   "execution_count": 9,
   "id": "6d5aee03",
   "metadata": {},
   "outputs": [],
   "source": [
    "train_text = [doc.text for doc in train_docs]\n",
    "dev_text = [doc.text for doc in dev_docs]"
   ]
  },
  {
   "cell_type": "code",
   "execution_count": 13,
   "id": "435eab76",
   "metadata": {},
   "outputs": [
    {
     "data": {
      "text/plain": [
       "(21,\n",
       " ['CONCLUSION : ',\n",
       "  'As shown in Fig . ',\n",
       "  'Figure 3 ',\n",
       "  '3 . ',\n",
       "  '6B . ',\n",
       "  '5 . ',\n",
       "  '2 . ',\n",
       "  'Click here for file ',\n",
       "  'BACKGROUND : ',\n",
       "  'CONCLUSIONS : ',\n",
       "  'Figure 5 ',\n",
       "  'Figure 4 ',\n",
       "  'Discussion ',\n",
       "  'METHODS : ',\n",
       "  '1 ',\n",
       "  'OBJECTIVE : ',\n",
       "  'Fig . ',\n",
       "  'Figure 1 ',\n",
       "  'Conclusions ',\n",
       "  'RESULTS : ',\n",
       "  '2 '])"
      ]
     },
     "execution_count": 13,
     "metadata": {},
     "output_type": "execute_result"
    }
   ],
   "source": [
    "intersects = list(set(train_text) & set(dev_text))\n",
    "len(intersects), intersects"
   ]
  },
  {
   "cell_type": "code",
   "execution_count": null,
   "id": "fe5efbdd",
   "metadata": {},
   "outputs": [],
   "source": []
  }
 ],
 "metadata": {
  "kernelspec": {
   "display_name": "Python 3 (ipykernel)",
   "language": "python",
   "name": "python3"
  },
  "language_info": {
   "codemirror_mode": {
    "name": "ipython",
    "version": 3
   },
   "file_extension": ".py",
   "mimetype": "text/x-python",
   "name": "python",
   "nbconvert_exporter": "python",
   "pygments_lexer": "ipython3",
   "version": "3.8.10"
  }
 },
 "nbformat": 4,
 "nbformat_minor": 5
}
